{
 "cells": [
  {
   "cell_type": "code",
   "execution_count": 2,
   "id": "09e75396",
   "metadata": {},
   "outputs": [],
   "source": [
    "import numpy as np\n",
    "import pandas as pd\n",
    "import matplotlib.pyplot as plt\n",
    "import seaborn as sns\n",
    "import statistics\n",
    "import math\n",
    "import re"
   ]
  },
  {
   "cell_type": "code",
   "execution_count": 3,
   "id": "c8a41a70",
   "metadata": {},
   "outputs": [
    {
     "data": {
      "text/html": [
       "<div>\n",
       "<style scoped>\n",
       "    .dataframe tbody tr th:only-of-type {\n",
       "        vertical-align: middle;\n",
       "    }\n",
       "\n",
       "    .dataframe tbody tr th {\n",
       "        vertical-align: top;\n",
       "    }\n",
       "\n",
       "    .dataframe thead th {\n",
       "        text-align: right;\n",
       "    }\n",
       "</style>\n",
       "<table border=\"1\" class=\"dataframe\">\n",
       "  <thead>\n",
       "    <tr style=\"text-align: right;\">\n",
       "      <th></th>\n",
       "      <th>source_id</th>\n",
       "      <th>date</th>\n",
       "      <th>description</th>\n",
       "      <th>pollutant_ppm</th>\n",
       "      <th>biological</th>\n",
       "      <th>results</th>\n",
       "    </tr>\n",
       "  </thead>\n",
       "  <tbody>\n",
       "    <tr>\n",
       "      <th>0</th>\n",
       "      <td>KiRu28935224</td>\n",
       "      <td>2021-01-04 09:17:00</td>\n",
       "      <td>Bacteria: Giardia Lamblia</td>\n",
       "      <td>0.000000</td>\n",
       "      <td>495.898000</td>\n",
       "      <td>Contaminated: Biological</td>\n",
       "    </tr>\n",
       "    <tr>\n",
       "      <th>1</th>\n",
       "      <td>AkLu01628224</td>\n",
       "      <td>2021-01-04 09:53:00</td>\n",
       "      <td>Bacteria: E. coli</td>\n",
       "      <td>0.000000</td>\n",
       "      <td>6.096080</td>\n",
       "      <td>Contaminated: Biological</td>\n",
       "    </tr>\n",
       "    <tr>\n",
       "      <th>2</th>\n",
       "      <td>HaZa21742224</td>\n",
       "      <td>2021-01-04 10:37:00</td>\n",
       "      <td>Inorganic contaminants: Zinc, Zinc, Lead, Cadmium</td>\n",
       "      <td>2.715000</td>\n",
       "      <td>0.000000</td>\n",
       "      <td>Contaminated: Chemical</td>\n",
       "    </tr>\n",
       "    <tr>\n",
       "      <th>3</th>\n",
       "      <td>HaRu19725224</td>\n",
       "      <td>2021-01-04 11:04:00</td>\n",
       "      <td>Clean</td>\n",
       "      <td>0.028859</td>\n",
       "      <td>0.000096</td>\n",
       "      <td>Clean</td>\n",
       "    </tr>\n",
       "    <tr>\n",
       "      <th>4</th>\n",
       "      <td>SoRu35703224</td>\n",
       "      <td>2021-01-04 11:29:00</td>\n",
       "      <td>Bacteria: E. coli</td>\n",
       "      <td>0.000000</td>\n",
       "      <td>22.500900</td>\n",
       "      <td>Contaminated: Biological</td>\n",
       "    </tr>\n",
       "  </tbody>\n",
       "</table>\n",
       "</div>"
      ],
      "text/plain": [
       "      source_id                date  \\\n",
       "0  KiRu28935224 2021-01-04 09:17:00   \n",
       "1  AkLu01628224 2021-01-04 09:53:00   \n",
       "2  HaZa21742224 2021-01-04 10:37:00   \n",
       "3  HaRu19725224 2021-01-04 11:04:00   \n",
       "4  SoRu35703224 2021-01-04 11:29:00   \n",
       "\n",
       "                                         description  pollutant_ppm  \\\n",
       "0                          Bacteria: Giardia Lamblia       0.000000   \n",
       "1                                  Bacteria: E. coli       0.000000   \n",
       "2  Inorganic contaminants: Zinc, Zinc, Lead, Cadmium       2.715000   \n",
       "3                                              Clean       0.028859   \n",
       "4                                  Bacteria: E. coli       0.000000   \n",
       "\n",
       "   biological                   results  \n",
       "0  495.898000  Contaminated: Biological  \n",
       "1    6.096080  Contaminated: Biological  \n",
       "2    0.000000    Contaminated: Chemical  \n",
       "3    0.000096                     Clean  \n",
       "4   22.500900  Contaminated: Biological  "
      ]
     },
     "execution_count": 3,
     "metadata": {},
     "output_type": "execute_result"
    }
   ],
   "source": [
    "df_well_pollution = pd.read_excel(\"md_water_services_data.xlsx\", sheet_name=0)\n",
    "df_well_pollution.head()"
   ]
  },
  {
   "cell_type": "code",
   "execution_count": 6,
   "id": "c079c149",
   "metadata": {},
   "outputs": [
    {
     "data": {
      "text/html": [
       "<div>\n",
       "<style scoped>\n",
       "    .dataframe tbody tr th:only-of-type {\n",
       "        vertical-align: middle;\n",
       "    }\n",
       "\n",
       "    .dataframe tbody tr th {\n",
       "        vertical-align: top;\n",
       "    }\n",
       "\n",
       "    .dataframe thead th {\n",
       "        text-align: right;\n",
       "    }\n",
       "</style>\n",
       "<table border=\"1\" class=\"dataframe\">\n",
       "  <thead>\n",
       "    <tr style=\"text-align: right;\">\n",
       "      <th></th>\n",
       "      <th>source_id</th>\n",
       "      <th>type_of_water_source</th>\n",
       "      <th>number_of_people_served</th>\n",
       "    </tr>\n",
       "  </thead>\n",
       "  <tbody>\n",
       "    <tr>\n",
       "      <th>0</th>\n",
       "      <td>AkHa00000224</td>\n",
       "      <td>tap_in_home</td>\n",
       "      <td>956</td>\n",
       "    </tr>\n",
       "    <tr>\n",
       "      <th>1</th>\n",
       "      <td>AkHa00001224</td>\n",
       "      <td>tap_in_home_broken</td>\n",
       "      <td>930</td>\n",
       "    </tr>\n",
       "    <tr>\n",
       "      <th>2</th>\n",
       "      <td>AkHa00002224</td>\n",
       "      <td>tap_in_home_broken</td>\n",
       "      <td>486</td>\n",
       "    </tr>\n",
       "    <tr>\n",
       "      <th>3</th>\n",
       "      <td>AkHa00003224</td>\n",
       "      <td>well</td>\n",
       "      <td>364</td>\n",
       "    </tr>\n",
       "    <tr>\n",
       "      <th>4</th>\n",
       "      <td>AkHa00004224</td>\n",
       "      <td>tap_in_home_broken</td>\n",
       "      <td>942</td>\n",
       "    </tr>\n",
       "  </tbody>\n",
       "</table>\n",
       "</div>"
      ],
      "text/plain": [
       "      source_id type_of_water_source  number_of_people_served\n",
       "0  AkHa00000224          tap_in_home                      956\n",
       "1  AkHa00001224   tap_in_home_broken                      930\n",
       "2  AkHa00002224   tap_in_home_broken                      486\n",
       "3  AkHa00003224                 well                      364\n",
       "4  AkHa00004224   tap_in_home_broken                      942"
      ]
     },
     "execution_count": 6,
     "metadata": {},
     "output_type": "execute_result"
    }
   ],
   "source": [
    "df_water_source = pd.read_excel(\"md_water_services_data.xlsx\", sheet_name=1)\n",
    "df_water_source.head()"
   ]
  },
  {
   "cell_type": "code",
   "execution_count": 7,
   "id": "ec6b0bd1",
   "metadata": {},
   "outputs": [
    {
     "data": {
      "text/html": [
       "<div>\n",
       "<style scoped>\n",
       "    .dataframe tbody tr th:only-of-type {\n",
       "        vertical-align: middle;\n",
       "    }\n",
       "\n",
       "    .dataframe tbody tr th {\n",
       "        vertical-align: top;\n",
       "    }\n",
       "\n",
       "    .dataframe thead th {\n",
       "        text-align: right;\n",
       "    }\n",
       "</style>\n",
       "<table border=\"1\" class=\"dataframe\">\n",
       "  <thead>\n",
       "    <tr style=\"text-align: right;\">\n",
       "      <th></th>\n",
       "      <th>record_id</th>\n",
       "      <th>location_id</th>\n",
       "      <th>source_id</th>\n",
       "      <th>time_of_record</th>\n",
       "      <th>visit_count</th>\n",
       "      <th>time_in_queue</th>\n",
       "      <th>assigned_employee_id</th>\n",
       "    </tr>\n",
       "  </thead>\n",
       "  <tbody>\n",
       "    <tr>\n",
       "      <th>0</th>\n",
       "      <td>0</td>\n",
       "      <td>SoIl32582</td>\n",
       "      <td>SoIl32582224</td>\n",
       "      <td>2021-01-01 09:10:00</td>\n",
       "      <td>1</td>\n",
       "      <td>15</td>\n",
       "      <td>12</td>\n",
       "    </tr>\n",
       "    <tr>\n",
       "      <th>1</th>\n",
       "      <td>1</td>\n",
       "      <td>KiRu28935</td>\n",
       "      <td>KiRu28935224</td>\n",
       "      <td>2021-01-01 09:17:00</td>\n",
       "      <td>1</td>\n",
       "      <td>0</td>\n",
       "      <td>46</td>\n",
       "    </tr>\n",
       "    <tr>\n",
       "      <th>2</th>\n",
       "      <td>2</td>\n",
       "      <td>HaRu19752</td>\n",
       "      <td>HaRu19752224</td>\n",
       "      <td>2021-01-01 09:36:00</td>\n",
       "      <td>1</td>\n",
       "      <td>62</td>\n",
       "      <td>40</td>\n",
       "    </tr>\n",
       "    <tr>\n",
       "      <th>3</th>\n",
       "      <td>3</td>\n",
       "      <td>AkLu01628</td>\n",
       "      <td>AkLu01628224</td>\n",
       "      <td>2021-01-01 09:53:00</td>\n",
       "      <td>1</td>\n",
       "      <td>0</td>\n",
       "      <td>1</td>\n",
       "    </tr>\n",
       "    <tr>\n",
       "      <th>4</th>\n",
       "      <td>4</td>\n",
       "      <td>AkRu03357</td>\n",
       "      <td>AkRu03357224</td>\n",
       "      <td>2021-01-01 10:11:00</td>\n",
       "      <td>1</td>\n",
       "      <td>28</td>\n",
       "      <td>14</td>\n",
       "    </tr>\n",
       "  </tbody>\n",
       "</table>\n",
       "</div>"
      ],
      "text/plain": [
       "   record_id location_id     source_id      time_of_record  visit_count  \\\n",
       "0          0   SoIl32582  SoIl32582224 2021-01-01 09:10:00            1   \n",
       "1          1   KiRu28935  KiRu28935224 2021-01-01 09:17:00            1   \n",
       "2          2   HaRu19752  HaRu19752224 2021-01-01 09:36:00            1   \n",
       "3          3   AkLu01628  AkLu01628224 2021-01-01 09:53:00            1   \n",
       "4          4   AkRu03357  AkRu03357224 2021-01-01 10:11:00            1   \n",
       "\n",
       "   time_in_queue  assigned_employee_id  \n",
       "0             15                    12  \n",
       "1              0                    46  \n",
       "2             62                    40  \n",
       "3              0                     1  \n",
       "4             28                    14  "
      ]
     },
     "execution_count": 7,
     "metadata": {},
     "output_type": "execute_result"
    }
   ],
   "source": [
    "df_visits = pd.read_excel(\"md_water_services_data.xlsx\", sheet_name=2)\n",
    "df_visits.head()"
   ]
  },
  {
   "cell_type": "code",
   "execution_count": 8,
   "id": "e7bffb63",
   "metadata": {},
   "outputs": [
    {
     "data": {
      "text/html": [
       "<div>\n",
       "<style scoped>\n",
       "    .dataframe tbody tr th:only-of-type {\n",
       "        vertical-align: middle;\n",
       "    }\n",
       "\n",
       "    .dataframe tbody tr th {\n",
       "        vertical-align: top;\n",
       "    }\n",
       "\n",
       "    .dataframe thead th {\n",
       "        text-align: right;\n",
       "    }\n",
       "</style>\n",
       "<table border=\"1\" class=\"dataframe\">\n",
       "  <thead>\n",
       "    <tr style=\"text-align: right;\">\n",
       "      <th></th>\n",
       "      <th>Unnamed: 0</th>\n",
       "      <th>record_id</th>\n",
       "      <th>percent_male</th>\n",
       "      <th>percent_female</th>\n",
       "      <th>percent_child</th>\n",
       "    </tr>\n",
       "  </thead>\n",
       "  <tbody>\n",
       "    <tr>\n",
       "      <th>0</th>\n",
       "      <td>0</td>\n",
       "      <td>21896</td>\n",
       "      <td>4.78</td>\n",
       "      <td>87.50</td>\n",
       "      <td>7.72</td>\n",
       "    </tr>\n",
       "    <tr>\n",
       "      <th>1</th>\n",
       "      <td>1</td>\n",
       "      <td>9514</td>\n",
       "      <td>10.94</td>\n",
       "      <td>67.97</td>\n",
       "      <td>21.09</td>\n",
       "    </tr>\n",
       "    <tr>\n",
       "      <th>2</th>\n",
       "      <td>2</td>\n",
       "      <td>54843</td>\n",
       "      <td>10.00</td>\n",
       "      <td>75.38</td>\n",
       "      <td>14.62</td>\n",
       "    </tr>\n",
       "    <tr>\n",
       "      <th>3</th>\n",
       "      <td>3</td>\n",
       "      <td>2550</td>\n",
       "      <td>7.10</td>\n",
       "      <td>84.15</td>\n",
       "      <td>8.74</td>\n",
       "    </tr>\n",
       "    <tr>\n",
       "      <th>4</th>\n",
       "      <td>4</td>\n",
       "      <td>31721</td>\n",
       "      <td>5.79</td>\n",
       "      <td>72.73</td>\n",
       "      <td>21.49</td>\n",
       "    </tr>\n",
       "  </tbody>\n",
       "</table>\n",
       "</div>"
      ],
      "text/plain": [
       "   Unnamed: 0  record_id  percent_male  percent_female  percent_child\n",
       "0           0      21896          4.78           87.50           7.72\n",
       "1           1       9514         10.94           67.97          21.09\n",
       "2           2      54843         10.00           75.38          14.62\n",
       "3           3       2550          7.10           84.15           8.74\n",
       "4           4      31721          5.79           72.73          21.49"
      ]
     },
     "execution_count": 8,
     "metadata": {},
     "output_type": "execute_result"
    }
   ],
   "source": [
    "df_queue_composition = pd.read_excel(\"md_water_services_data.xlsx\", sheet_name=3)\n",
    "df_queue_composition.head()"
   ]
  },
  {
   "cell_type": "code",
   "execution_count": 9,
   "id": "aa811878",
   "metadata": {},
   "outputs": [
    {
     "data": {
      "text/html": [
       "<div>\n",
       "<style scoped>\n",
       "    .dataframe tbody tr th:only-of-type {\n",
       "        vertical-align: middle;\n",
       "    }\n",
       "\n",
       "    .dataframe tbody tr th {\n",
       "        vertical-align: top;\n",
       "    }\n",
       "\n",
       "    .dataframe thead th {\n",
       "        text-align: right;\n",
       "    }\n",
       "</style>\n",
       "<table border=\"1\" class=\"dataframe\">\n",
       "  <thead>\n",
       "    <tr style=\"text-align: right;\">\n",
       "      <th></th>\n",
       "      <th>project_id</th>\n",
       "      <th>source_id</th>\n",
       "      <th>address</th>\n",
       "      <th>town</th>\n",
       "      <th>province</th>\n",
       "      <th>source_type</th>\n",
       "      <th>improvement</th>\n",
       "      <th>source_status</th>\n",
       "      <th>date_of_completion</th>\n",
       "      <th>comments</th>\n",
       "    </tr>\n",
       "  </thead>\n",
       "  <tbody>\n",
       "    <tr>\n",
       "      <th>0</th>\n",
       "      <td>1</td>\n",
       "      <td>SoIl32582224</td>\n",
       "      <td>36 Pwani Mchangani Road</td>\n",
       "      <td>Ilanga</td>\n",
       "      <td>Sokoto</td>\n",
       "      <td>river</td>\n",
       "      <td>Drill well</td>\n",
       "      <td>Backlog</td>\n",
       "      <td>NaN</td>\n",
       "      <td>NaN</td>\n",
       "    </tr>\n",
       "    <tr>\n",
       "      <th>1</th>\n",
       "      <td>2</td>\n",
       "      <td>KiRu28935224</td>\n",
       "      <td>129 Ziwa La Kioo Road</td>\n",
       "      <td>Rural</td>\n",
       "      <td>Kilimani</td>\n",
       "      <td>well</td>\n",
       "      <td>Install UV and RO filter</td>\n",
       "      <td>Backlog</td>\n",
       "      <td>NaN</td>\n",
       "      <td>NaN</td>\n",
       "    </tr>\n",
       "    <tr>\n",
       "      <th>2</th>\n",
       "      <td>3</td>\n",
       "      <td>HaRu19752224</td>\n",
       "      <td>18 Mlima Tazama Avenue</td>\n",
       "      <td>Rural</td>\n",
       "      <td>Hawassa</td>\n",
       "      <td>shared_tap</td>\n",
       "      <td>Install 2 taps nearby</td>\n",
       "      <td>Backlog</td>\n",
       "      <td>NaN</td>\n",
       "      <td>NaN</td>\n",
       "    </tr>\n",
       "    <tr>\n",
       "      <th>3</th>\n",
       "      <td>4</td>\n",
       "      <td>AkLu01628224</td>\n",
       "      <td>100 Mogadishu Road</td>\n",
       "      <td>Lusaka</td>\n",
       "      <td>Akatsi</td>\n",
       "      <td>well</td>\n",
       "      <td>Install UV and RO filter</td>\n",
       "      <td>Backlog</td>\n",
       "      <td>NaN</td>\n",
       "      <td>NaN</td>\n",
       "    </tr>\n",
       "    <tr>\n",
       "      <th>4</th>\n",
       "      <td>5</td>\n",
       "      <td>KiRu29315224</td>\n",
       "      <td>26 Bahari Ya Faraja Road</td>\n",
       "      <td>Rural</td>\n",
       "      <td>Kilimani</td>\n",
       "      <td>river</td>\n",
       "      <td>Drill well</td>\n",
       "      <td>Backlog</td>\n",
       "      <td>NaN</td>\n",
       "      <td>NaN</td>\n",
       "    </tr>\n",
       "  </tbody>\n",
       "</table>\n",
       "</div>"
      ],
      "text/plain": [
       "   project_id     source_id                   address    town  province  \\\n",
       "0           1  SoIl32582224   36 Pwani Mchangani Road  Ilanga    Sokoto   \n",
       "1           2  KiRu28935224     129 Ziwa La Kioo Road   Rural  Kilimani   \n",
       "2           3  HaRu19752224    18 Mlima Tazama Avenue   Rural   Hawassa   \n",
       "3           4  AkLu01628224        100 Mogadishu Road  Lusaka    Akatsi   \n",
       "4           5  KiRu29315224  26 Bahari Ya Faraja Road   Rural  Kilimani   \n",
       "\n",
       "  source_type               improvement source_status  date_of_completion  \\\n",
       "0       river                Drill well       Backlog                 NaN   \n",
       "1        well  Install UV and RO filter       Backlog                 NaN   \n",
       "2  shared_tap     Install 2 taps nearby       Backlog                 NaN   \n",
       "3        well  Install UV and RO filter       Backlog                 NaN   \n",
       "4       river                Drill well       Backlog                 NaN   \n",
       "\n",
       "   comments  \n",
       "0       NaN  \n",
       "1       NaN  \n",
       "2       NaN  \n",
       "3       NaN  \n",
       "4       NaN  "
      ]
     },
     "execution_count": 9,
     "metadata": {},
     "output_type": "execute_result"
    }
   ],
   "source": [
    "df_project_progress = pd.read_excel(\"md_water_services_data.xlsx\", sheet_name=4)\n",
    "df_project_progress.head()"
   ]
  },
  {
   "cell_type": "code",
   "execution_count": 10,
   "id": "752bc9b1",
   "metadata": {},
   "outputs": [
    {
     "data": {
      "text/html": [
       "<div>\n",
       "<style scoped>\n",
       "    .dataframe tbody tr th:only-of-type {\n",
       "        vertical-align: middle;\n",
       "    }\n",
       "\n",
       "    .dataframe tbody tr th {\n",
       "        vertical-align: top;\n",
       "    }\n",
       "\n",
       "    .dataframe thead th {\n",
       "        text-align: right;\n",
       "    }\n",
       "</style>\n",
       "<table border=\"1\" class=\"dataframe\">\n",
       "  <thead>\n",
       "    <tr style=\"text-align: right;\">\n",
       "      <th></th>\n",
       "      <th>location_id</th>\n",
       "      <th>address</th>\n",
       "      <th>province_name</th>\n",
       "      <th>town_name</th>\n",
       "      <th>location_type</th>\n",
       "    </tr>\n",
       "  </thead>\n",
       "  <tbody>\n",
       "    <tr>\n",
       "      <th>0</th>\n",
       "      <td>AkHa00000</td>\n",
       "      <td>2 Addis Ababa Road</td>\n",
       "      <td>Akatsi</td>\n",
       "      <td>Harare</td>\n",
       "      <td>Urban</td>\n",
       "    </tr>\n",
       "    <tr>\n",
       "      <th>1</th>\n",
       "      <td>AkHa00001</td>\n",
       "      <td>10 Addis Ababa Road</td>\n",
       "      <td>Akatsi</td>\n",
       "      <td>Harare</td>\n",
       "      <td>Urban</td>\n",
       "    </tr>\n",
       "    <tr>\n",
       "      <th>2</th>\n",
       "      <td>AkHa00002</td>\n",
       "      <td>9 Addis Ababa Road</td>\n",
       "      <td>Akatsi</td>\n",
       "      <td>Harare</td>\n",
       "      <td>Urban</td>\n",
       "    </tr>\n",
       "    <tr>\n",
       "      <th>3</th>\n",
       "      <td>AkHa00003</td>\n",
       "      <td>139 Addis Ababa Road</td>\n",
       "      <td>Akatsi</td>\n",
       "      <td>Harare</td>\n",
       "      <td>Urban</td>\n",
       "    </tr>\n",
       "    <tr>\n",
       "      <th>4</th>\n",
       "      <td>AkHa00004</td>\n",
       "      <td>17 Addis Ababa Road</td>\n",
       "      <td>Akatsi</td>\n",
       "      <td>Harare</td>\n",
       "      <td>Urban</td>\n",
       "    </tr>\n",
       "  </tbody>\n",
       "</table>\n",
       "</div>"
      ],
      "text/plain": [
       "  location_id               address province_name town_name location_type\n",
       "0   AkHa00000    2 Addis Ababa Road        Akatsi    Harare         Urban\n",
       "1   AkHa00001   10 Addis Ababa Road        Akatsi    Harare         Urban\n",
       "2   AkHa00002    9 Addis Ababa Road        Akatsi    Harare         Urban\n",
       "3   AkHa00003  139 Addis Ababa Road        Akatsi    Harare         Urban\n",
       "4   AkHa00004   17 Addis Ababa Road        Akatsi    Harare         Urban"
      ]
     },
     "execution_count": 10,
     "metadata": {},
     "output_type": "execute_result"
    }
   ],
   "source": [
    "df_location = pd.read_excel(\"md_water_services_data.xlsx\", sheet_name=5)\n",
    "df_location.head()"
   ]
  },
  {
   "cell_type": "code",
   "execution_count": 11,
   "id": "308a0102",
   "metadata": {},
   "outputs": [
    {
     "data": {
      "text/html": [
       "<div>\n",
       "<style scoped>\n",
       "    .dataframe tbody tr th:only-of-type {\n",
       "        vertical-align: middle;\n",
       "    }\n",
       "\n",
       "    .dataframe tbody tr th {\n",
       "        vertical-align: top;\n",
       "    }\n",
       "\n",
       "    .dataframe thead th {\n",
       "        text-align: right;\n",
       "    }\n",
       "</style>\n",
       "<table border=\"1\" class=\"dataframe\">\n",
       "  <thead>\n",
       "    <tr style=\"text-align: right;\">\n",
       "      <th></th>\n",
       "      <th>improvement</th>\n",
       "      <th>unit_cost_USD</th>\n",
       "    </tr>\n",
       "  </thead>\n",
       "  <tbody>\n",
       "    <tr>\n",
       "      <th>0</th>\n",
       "      <td>Drill well</td>\n",
       "      <td>8500</td>\n",
       "    </tr>\n",
       "    <tr>\n",
       "      <th>1</th>\n",
       "      <td>Install RO filter</td>\n",
       "      <td>4200</td>\n",
       "    </tr>\n",
       "    <tr>\n",
       "      <th>2</th>\n",
       "      <td>Install UV and RO filter</td>\n",
       "      <td>3200</td>\n",
       "    </tr>\n",
       "    <tr>\n",
       "      <th>3</th>\n",
       "      <td>Diagnose local infrastructure</td>\n",
       "      <td>350</td>\n",
       "    </tr>\n",
       "    <tr>\n",
       "      <th>4</th>\n",
       "      <td>Install 1 taps nearby</td>\n",
       "      <td>2000</td>\n",
       "    </tr>\n",
       "  </tbody>\n",
       "</table>\n",
       "</div>"
      ],
      "text/plain": [
       "                     improvement  unit_cost_USD\n",
       "0                     Drill well           8500\n",
       "1              Install RO filter           4200\n",
       "2       Install UV and RO filter           3200\n",
       "3  Diagnose local infrastructure            350\n",
       "4          Install 1 taps nearby           2000"
      ]
     },
     "execution_count": 11,
     "metadata": {},
     "output_type": "execute_result"
    }
   ],
   "source": [
    "df_infrastructure_cost = pd.read_excel(\"md_water_services_data.xlsx\", sheet_name=6)\n",
    "df_infrastructure_cost.head()"
   ]
  },
  {
   "cell_type": "code",
   "execution_count": 12,
   "id": "237e2927",
   "metadata": {},
   "outputs": [
    {
     "data": {
      "text/html": [
       "<div>\n",
       "<style scoped>\n",
       "    .dataframe tbody tr th:only-of-type {\n",
       "        vertical-align: middle;\n",
       "    }\n",
       "\n",
       "    .dataframe tbody tr th {\n",
       "        vertical-align: top;\n",
       "    }\n",
       "\n",
       "    .dataframe thead th {\n",
       "        text-align: right;\n",
       "    }\n",
       "</style>\n",
       "<table border=\"1\" class=\"dataframe\">\n",
       "  <thead>\n",
       "    <tr style=\"text-align: right;\">\n",
       "      <th></th>\n",
       "      <th>Unnamed: 0</th>\n",
       "      <th>crime_id</th>\n",
       "      <th>time_of_incident</th>\n",
       "      <th>loc_id</th>\n",
       "      <th>crime_type</th>\n",
       "      <th>victim_gender</th>\n",
       "    </tr>\n",
       "  </thead>\n",
       "  <tbody>\n",
       "    <tr>\n",
       "      <th>0</th>\n",
       "      <td>0</td>\n",
       "      <td>C00014</td>\n",
       "      <td>2010-01-01 04:00:00</td>\n",
       "      <td>HaRu20242</td>\n",
       "      <td>harassment</td>\n",
       "      <td>F</td>\n",
       "    </tr>\n",
       "    <tr>\n",
       "      <th>1</th>\n",
       "      <td>1</td>\n",
       "      <td>C00027</td>\n",
       "      <td>2010-01-01 05:00:00</td>\n",
       "      <td>KiRu27539</td>\n",
       "      <td>public_intoxication</td>\n",
       "      <td>F</td>\n",
       "    </tr>\n",
       "    <tr>\n",
       "      <th>2</th>\n",
       "      <td>2</td>\n",
       "      <td>C00050</td>\n",
       "      <td>2010-01-01 06:00:00</td>\n",
       "      <td>SoRu37961</td>\n",
       "      <td>severe_assault</td>\n",
       "      <td>F</td>\n",
       "    </tr>\n",
       "    <tr>\n",
       "      <th>3</th>\n",
       "      <td>3</td>\n",
       "      <td>C00059</td>\n",
       "      <td>2010-01-01 06:00:00</td>\n",
       "      <td>KiRu25435</td>\n",
       "      <td>vandalism</td>\n",
       "      <td>F</td>\n",
       "    </tr>\n",
       "    <tr>\n",
       "      <th>4</th>\n",
       "      <td>4</td>\n",
       "      <td>C00066</td>\n",
       "      <td>2010-01-01 08:00:00</td>\n",
       "      <td>SoRu34723</td>\n",
       "      <td>theft</td>\n",
       "      <td>F</td>\n",
       "    </tr>\n",
       "  </tbody>\n",
       "</table>\n",
       "</div>"
      ],
      "text/plain": [
       "   Unnamed: 0 crime_id    time_of_incident     loc_id           crime_type  \\\n",
       "0           0   C00014 2010-01-01 04:00:00  HaRu20242           harassment   \n",
       "1           1   C00027 2010-01-01 05:00:00  KiRu27539  public_intoxication   \n",
       "2           2   C00050 2010-01-01 06:00:00  SoRu37961       severe_assault   \n",
       "3           3   C00059 2010-01-01 06:00:00  KiRu25435            vandalism   \n",
       "4           4   C00066 2010-01-01 08:00:00  SoRu34723                theft   \n",
       "\n",
       "  victim_gender  \n",
       "0             F  \n",
       "1             F  \n",
       "2             F  \n",
       "3             F  \n",
       "4             F  "
      ]
     },
     "execution_count": 12,
     "metadata": {},
     "output_type": "execute_result"
    }
   ],
   "source": [
    "df_water_source_related_crime = pd.read_excel(\"md_water_services_data.xlsx\", sheet_name=7)\n",
    "df_water_source_related_crime.head()"
   ]
  },
  {
   "cell_type": "code",
   "execution_count": 14,
   "id": "a7558ff4",
   "metadata": {},
   "outputs": [
    {
     "data": {
      "text/html": [
       "<div>\n",
       "<style scoped>\n",
       "    .dataframe tbody tr th:only-of-type {\n",
       "        vertical-align: middle;\n",
       "    }\n",
       "\n",
       "    .dataframe tbody tr th {\n",
       "        vertical-align: top;\n",
       "    }\n",
       "\n",
       "    .dataframe thead th {\n",
       "        text-align: right;\n",
       "    }\n",
       "</style>\n",
       "<table border=\"1\" class=\"dataframe\">\n",
       "  <thead>\n",
       "    <tr style=\"text-align: right;\">\n",
       "      <th></th>\n",
       "      <th>improvement</th>\n",
       "      <th>unit_cost_USD</th>\n",
       "    </tr>\n",
       "  </thead>\n",
       "  <tbody>\n",
       "    <tr>\n",
       "      <th>0</th>\n",
       "      <td>Drill well</td>\n",
       "      <td>8500</td>\n",
       "    </tr>\n",
       "    <tr>\n",
       "      <th>1</th>\n",
       "      <td>Install RO filter</td>\n",
       "      <td>4200</td>\n",
       "    </tr>\n",
       "    <tr>\n",
       "      <th>2</th>\n",
       "      <td>Install UV and RO filter</td>\n",
       "      <td>3200</td>\n",
       "    </tr>\n",
       "    <tr>\n",
       "      <th>3</th>\n",
       "      <td>Diagnose local infrastructure</td>\n",
       "      <td>350</td>\n",
       "    </tr>\n",
       "    <tr>\n",
       "      <th>4</th>\n",
       "      <td>Install 1 taps nearby</td>\n",
       "      <td>2000</td>\n",
       "    </tr>\n",
       "    <tr>\n",
       "      <th>5</th>\n",
       "      <td>Install 2 taps nearby</td>\n",
       "      <td>4000</td>\n",
       "    </tr>\n",
       "    <tr>\n",
       "      <th>6</th>\n",
       "      <td>Install 3 taps nearby</td>\n",
       "      <td>6000</td>\n",
       "    </tr>\n",
       "    <tr>\n",
       "      <th>7</th>\n",
       "      <td>Install 4 taps nearby</td>\n",
       "      <td>8000</td>\n",
       "    </tr>\n",
       "    <tr>\n",
       "      <th>8</th>\n",
       "      <td>Install 5 taps nearby</td>\n",
       "      <td>10000</td>\n",
       "    </tr>\n",
       "    <tr>\n",
       "      <th>9</th>\n",
       "      <td>Install 6 taps nearby</td>\n",
       "      <td>12000</td>\n",
       "    </tr>\n",
       "    <tr>\n",
       "      <th>10</th>\n",
       "      <td>Install 7 taps nearby</td>\n",
       "      <td>14000</td>\n",
       "    </tr>\n",
       "    <tr>\n",
       "      <th>11</th>\n",
       "      <td>Install 8 taps nearby</td>\n",
       "      <td>16000</td>\n",
       "    </tr>\n",
       "  </tbody>\n",
       "</table>\n",
       "</div>"
      ],
      "text/plain": [
       "                      improvement  unit_cost_USD\n",
       "0                      Drill well           8500\n",
       "1               Install RO filter           4200\n",
       "2        Install UV and RO filter           3200\n",
       "3   Diagnose local infrastructure            350\n",
       "4           Install 1 taps nearby           2000\n",
       "5           Install 2 taps nearby           4000\n",
       "6           Install 3 taps nearby           6000\n",
       "7           Install 4 taps nearby           8000\n",
       "8           Install 5 taps nearby          10000\n",
       "9           Install 6 taps nearby          12000\n",
       "10          Install 7 taps nearby          14000\n",
       "11          Install 8 taps nearby          16000"
      ]
     },
     "execution_count": 14,
     "metadata": {},
     "output_type": "execute_result"
    }
   ],
   "source": [
    "df_infrastructure_cost.head(12)"
   ]
  },
  {
   "cell_type": "code",
   "execution_count": 15,
   "id": "5e3863de",
   "metadata": {},
   "outputs": [
    {
     "data": {
      "text/html": [
       "<div>\n",
       "<style scoped>\n",
       "    .dataframe tbody tr th:only-of-type {\n",
       "        vertical-align: middle;\n",
       "    }\n",
       "\n",
       "    .dataframe tbody tr th {\n",
       "        vertical-align: top;\n",
       "    }\n",
       "\n",
       "    .dataframe thead th {\n",
       "        text-align: right;\n",
       "    }\n",
       "</style>\n",
       "<table border=\"1\" class=\"dataframe\">\n",
       "  <thead>\n",
       "    <tr style=\"text-align: right;\">\n",
       "      <th></th>\n",
       "      <th>project_id</th>\n",
       "      <th>source_id</th>\n",
       "      <th>address</th>\n",
       "      <th>town</th>\n",
       "      <th>province</th>\n",
       "      <th>source_type</th>\n",
       "      <th>improvement</th>\n",
       "      <th>source_status</th>\n",
       "      <th>date_of_completion</th>\n",
       "      <th>comments</th>\n",
       "      <th>unit_cost_USD</th>\n",
       "    </tr>\n",
       "  </thead>\n",
       "  <tbody>\n",
       "    <tr>\n",
       "      <th>0</th>\n",
       "      <td>1</td>\n",
       "      <td>SoIl32582224</td>\n",
       "      <td>36 Pwani Mchangani Road</td>\n",
       "      <td>Ilanga</td>\n",
       "      <td>Sokoto</td>\n",
       "      <td>river</td>\n",
       "      <td>Drill well</td>\n",
       "      <td>Backlog</td>\n",
       "      <td>NaN</td>\n",
       "      <td>NaN</td>\n",
       "      <td>8500</td>\n",
       "    </tr>\n",
       "    <tr>\n",
       "      <th>1</th>\n",
       "      <td>2</td>\n",
       "      <td>KiRu28935224</td>\n",
       "      <td>129 Ziwa La Kioo Road</td>\n",
       "      <td>Rural</td>\n",
       "      <td>Kilimani</td>\n",
       "      <td>well</td>\n",
       "      <td>Install UV and RO filter</td>\n",
       "      <td>Backlog</td>\n",
       "      <td>NaN</td>\n",
       "      <td>NaN</td>\n",
       "      <td>3200</td>\n",
       "    </tr>\n",
       "    <tr>\n",
       "      <th>2</th>\n",
       "      <td>3</td>\n",
       "      <td>HaRu19752224</td>\n",
       "      <td>18 Mlima Tazama Avenue</td>\n",
       "      <td>Rural</td>\n",
       "      <td>Hawassa</td>\n",
       "      <td>shared_tap</td>\n",
       "      <td>Install 2 taps nearby</td>\n",
       "      <td>Backlog</td>\n",
       "      <td>NaN</td>\n",
       "      <td>NaN</td>\n",
       "      <td>4000</td>\n",
       "    </tr>\n",
       "    <tr>\n",
       "      <th>3</th>\n",
       "      <td>4</td>\n",
       "      <td>AkLu01628224</td>\n",
       "      <td>100 Mogadishu Road</td>\n",
       "      <td>Lusaka</td>\n",
       "      <td>Akatsi</td>\n",
       "      <td>well</td>\n",
       "      <td>Install UV and RO filter</td>\n",
       "      <td>Backlog</td>\n",
       "      <td>NaN</td>\n",
       "      <td>NaN</td>\n",
       "      <td>3200</td>\n",
       "    </tr>\n",
       "    <tr>\n",
       "      <th>4</th>\n",
       "      <td>5</td>\n",
       "      <td>KiRu29315224</td>\n",
       "      <td>26 Bahari Ya Faraja Road</td>\n",
       "      <td>Rural</td>\n",
       "      <td>Kilimani</td>\n",
       "      <td>river</td>\n",
       "      <td>Drill well</td>\n",
       "      <td>Backlog</td>\n",
       "      <td>NaN</td>\n",
       "      <td>NaN</td>\n",
       "      <td>8500</td>\n",
       "    </tr>\n",
       "  </tbody>\n",
       "</table>\n",
       "</div>"
      ],
      "text/plain": [
       "   project_id     source_id                   address    town  province  \\\n",
       "0           1  SoIl32582224   36 Pwani Mchangani Road  Ilanga    Sokoto   \n",
       "1           2  KiRu28935224     129 Ziwa La Kioo Road   Rural  Kilimani   \n",
       "2           3  HaRu19752224    18 Mlima Tazama Avenue   Rural   Hawassa   \n",
       "3           4  AkLu01628224        100 Mogadishu Road  Lusaka    Akatsi   \n",
       "4           5  KiRu29315224  26 Bahari Ya Faraja Road   Rural  Kilimani   \n",
       "\n",
       "  source_type               improvement source_status  date_of_completion  \\\n",
       "0       river                Drill well       Backlog                 NaN   \n",
       "1        well  Install UV and RO filter       Backlog                 NaN   \n",
       "2  shared_tap     Install 2 taps nearby       Backlog                 NaN   \n",
       "3        well  Install UV and RO filter       Backlog                 NaN   \n",
       "4       river                Drill well       Backlog                 NaN   \n",
       "\n",
       "   comments  unit_cost_USD  \n",
       "0       NaN           8500  \n",
       "1       NaN           3200  \n",
       "2       NaN           4000  \n",
       "3       NaN           3200  \n",
       "4       NaN           8500  "
      ]
     },
     "execution_count": 15,
     "metadata": {},
     "output_type": "execute_result"
    }
   ],
   "source": [
    "df_cost = df_project_progress.merge(df_infrastructure_cost, how=\"left\")\n",
    "df_cost.head()"
   ]
  },
  {
   "cell_type": "code",
   "execution_count": 57,
   "id": "accf6052",
   "metadata": {},
   "outputs": [
    {
     "data": {
      "text/plain": [
       "(16060, 11)"
      ]
     },
     "execution_count": 57,
     "metadata": {},
     "output_type": "execute_result"
    }
   ],
   "source": [
    "df_cost[df_cost[\"town\"] == \"Rural\"].shape"
   ]
  },
  {
   "cell_type": "code",
   "execution_count": 62,
   "id": "e84f5775",
   "metadata": {},
   "outputs": [
    {
     "data": {
      "text/plain": [
       "39650"
      ]
     },
     "execution_count": 62,
     "metadata": {},
     "output_type": "execute_result"
    }
   ],
   "source": [
    "df_location[\"location_id\"].nunique()"
   ]
  },
  {
   "cell_type": "code",
   "execution_count": 55,
   "id": "7c6d6b6c",
   "metadata": {},
   "outputs": [
    {
     "data": {
      "text/plain": [
       "79400700.0"
      ]
     },
     "execution_count": 55,
     "metadata": {},
     "output_type": "execute_result"
    }
   ],
   "source": [
    "18994650 + 40270700 * 1.5"
   ]
  },
  {
   "cell_type": "code",
   "execution_count": 54,
   "id": "df88ee07",
   "metadata": {},
   "outputs": [
    {
     "data": {
      "text/plain": [
       "40270700"
      ]
     },
     "execution_count": 54,
     "metadata": {},
     "output_type": "execute_result"
    }
   ],
   "source": [
    "df_cost[(df_cost[\"town\"] == \"Rural\") & ((\n",
    "    df_cost[\"province\"] == \"Sokoto\") | (df_cost[\"province\"] == \"Kilimani\"))]\\\n",
    "    [\"unit_cost_USD\"].sum()"
   ]
  },
  {
   "cell_type": "code",
   "execution_count": 23,
   "id": "61db707b",
   "metadata": {},
   "outputs": [
    {
     "data": {
      "text/plain": [
       "array(['Backlog'], dtype=object)"
      ]
     },
     "execution_count": 23,
     "metadata": {},
     "output_type": "execute_result"
    }
   ],
   "source": [
    "df_cost[\"source_status\"].unique()"
   ]
  },
  {
   "cell_type": "code",
   "execution_count": 25,
   "id": "d90c2373",
   "metadata": {},
   "outputs": [
    {
     "data": {
      "text/plain": [
       "25398"
      ]
     },
     "execution_count": 25,
     "metadata": {},
     "output_type": "execute_result"
    }
   ],
   "source": [
    "df_cost[\"source_id\"].nunique()"
   ]
  },
  {
   "cell_type": "code",
   "execution_count": 32,
   "id": "f8867b49",
   "metadata": {},
   "outputs": [
    {
     "data": {
      "text/plain": [
       "town\n",
       "Rural      21383350\n",
       "Ilanga      1768950\n",
       "Majengo     1555550\n",
       "Kofi        1394350\n",
       "Bahari      1204700\n",
       "Marang      1183900\n",
       "Cheche       969000\n",
       "Name: unit_cost_USD, dtype: int64"
      ]
     },
     "execution_count": 32,
     "metadata": {},
     "output_type": "execute_result"
    }
   ],
   "source": [
    "df_cost[df_cost[\"province\"] == \"Sokoto\"].groupby(\"town\").sum()[\"unit_cost_USD\"].sort_values(ascending=False)"
   ]
  },
  {
   "cell_type": "code",
   "execution_count": 34,
   "id": "8868c99c",
   "metadata": {},
   "outputs": [
    {
     "name": "stdout",
     "output_type": "stream",
     "text": [
      "Sokoto\n",
      "town\n",
      "Rural      21383350\n",
      "Ilanga      1768950\n",
      "Majengo     1555550\n",
      "Kofi        1394350\n",
      "Bahari      1204700\n",
      "Marang      1183900\n",
      "Cheche       969000\n",
      "Name: unit_cost_USD, dtype: int64\n",
      "Kilimani\n",
      "town\n",
      "Rural      18887350\n",
      "Zuri        3357400\n",
      "Mrembo      2332650\n",
      "Harare      1834050\n",
      "Isiqalo     1786250\n",
      "Amara       1607850\n",
      "Name: unit_cost_USD, dtype: int64\n",
      "Hawassa\n",
      "town\n",
      "Rural       11939550\n",
      "Amina        1100050\n",
      "Djenne        863200\n",
      "Deka          827350\n",
      "Zanzibar      773700\n",
      "Yaounde       750350\n",
      "Serowe        329350\n",
      "Name: unit_cost_USD, dtype: int64\n",
      "Akatsi\n",
      "town\n",
      "Rural       18336550\n",
      "Lusaka       1540250\n",
      "Kintampo     1188800\n",
      "Harare       1121200\n",
      "Name: unit_cost_USD, dtype: int64\n",
      "Amanzi\n",
      "town\n",
      "Rural      4406950\n",
      "Asmara     1722900\n",
      "Amina      1286100\n",
      "Dahabu     1251750\n",
      "Bello       960300\n",
      "Pwani       905500\n",
      "Abidjan     691300\n",
      "Name: unit_cost_USD, dtype: int64\n"
     ]
    }
   ],
   "source": [
    "for i in list(df_cost[\"province\"].unique()):\n",
    "    a = df_cost[df_cost[\"province\"] == i].groupby(\"town\").sum()[\"unit_cost_USD\"].sort_values(ascending=False)\n",
    "    print(f\"{i}\\n{a}\")"
   ]
  },
  {
   "cell_type": "code",
   "execution_count": 40,
   "id": "e719d014",
   "metadata": {},
   "outputs": [
    {
     "name": "stdout",
     "output_type": "stream",
     "text": [
      "Isiqalo\n",
      "improvement\n",
      "Install UV and RO filter         611200\n",
      "Install RO filter                579600\n",
      "Drill well                       340000\n",
      "Install 8 taps nearby            128000\n",
      "Diagnose local infrastructure     37450\n",
      "Install 7 taps nearby             28000\n",
      "Install 3 taps nearby             24000\n",
      "Install 6 taps nearby             12000\n",
      "Install 1 taps nearby             10000\n",
      "Install 2 taps nearby              8000\n",
      "Install 4 taps nearby              8000\n",
      "Name: unit_cost_USD, dtype: int64\n",
      "Djenne\n",
      "improvement\n",
      "Install RO filter                365400\n",
      "Install UV and RO filter         332800\n",
      "Drill well                        59500\n",
      "Install 8 taps nearby             48000\n",
      "Diagnose local infrastructure     17500\n",
      "Install 7 taps nearby             14000\n",
      "Install 6 taps nearby             12000\n",
      "Install 5 taps nearby             10000\n",
      "Install 1 taps nearby              4000\n",
      "Name: unit_cost_USD, dtype: int64\n",
      "Bello\n",
      "improvement\n",
      "Install 8 taps nearby            224000\n",
      "Install 7 taps nearby            182000\n",
      "Drill well                       127500\n",
      "Install 6 taps nearby             84000\n",
      "Install 5 taps nearby             80000\n",
      "Install 4 taps nearby             64000\n",
      "Install RO filter                 58800\n",
      "Diagnose local infrastructure     47600\n",
      "Install UV and RO filter          38400\n",
      "Install 1 taps nearby             26000\n",
      "Install 2 taps nearby             16000\n",
      "Install 3 taps nearby             12000\n",
      "Name: unit_cost_USD, dtype: int64\n",
      "Amina\n",
      "improvement\n",
      "Install RO filter                701400\n",
      "Install UV and RO filter         630400\n",
      "Drill well                       527000\n",
      "Install 8 taps nearby            192000\n",
      "Diagnose local infrastructure    161350\n",
      "Install 7 taps nearby             42000\n",
      "Install 6 taps nearby             36000\n",
      "Install 1 taps nearby             30000\n",
      "Install 4 taps nearby             24000\n",
      "Install 2 taps nearby             20000\n",
      "Install 3 taps nearby             12000\n",
      "Install 5 taps nearby             10000\n",
      "Name: unit_cost_USD, dtype: int64\n"
     ]
    }
   ],
   "source": [
    "for i in [\"Isiqalo\", \"Djenne\", \"Bello\", \"Amina\"]:\n",
    "    a = df_cost[df_cost[\"town\"] == i].groupby(\"improvement\").sum()[\"unit_cost_USD\"].sort_values(ascending=False)\n",
    "    print(f\"{i}\\n{a}\")"
   ]
  },
  {
   "cell_type": "code",
   "execution_count": 46,
   "id": "3076fb13",
   "metadata": {},
   "outputs": [
    {
     "name": "stdout",
     "output_type": "stream",
     "text": [
      "{'Ak': 3.7019301200372547, 'Am': 2.066487402210601, 'H': 4.314352166210089, 'S': 5.1017640863156455}\n"
     ]
    }
   ],
   "source": [
    "d = {\"Ak\": (22186800/5993306), \"Am\": (11224800/5431826), \"H\": (16583550/3843810), \"S\": (29459800/5774434)}\n",
    "print(d)"
   ]
  },
  {
   "cell_type": "code",
   "execution_count": 50,
   "id": "c3a82b0a",
   "metadata": {},
   "outputs": [
    {
     "data": {
      "text/plain": [
       "59265350"
      ]
     },
     "execution_count": 50,
     "metadata": {},
     "output_type": "execute_result"
    }
   ],
   "source": [
    "29805550 + 29459800"
   ]
  },
  {
   "cell_type": "code",
   "execution_count": 45,
   "id": "9e4e2c00",
   "metadata": {},
   "outputs": [
    {
     "name": "stdout",
     "output_type": "stream",
     "text": [
      "Sokoto\n",
      "province\n",
      "Sokoto    29459800\n",
      "Name: unit_cost_USD, dtype: int64\n",
      "Kilimani\n",
      "province\n",
      "Kilimani    29805550\n",
      "Name: unit_cost_USD, dtype: int64\n",
      "Hawassa\n",
      "province\n",
      "Hawassa    16583550\n",
      "Name: unit_cost_USD, dtype: int64\n",
      "Akatsi\n",
      "province\n",
      "Akatsi    22186800\n",
      "Name: unit_cost_USD, dtype: int64\n",
      "Amanzi\n",
      "province\n",
      "Amanzi    11224800\n",
      "Name: unit_cost_USD, dtype: int64\n"
     ]
    }
   ],
   "source": [
    "# temp = dict()\n",
    "for i in list(df_cost[\"province\"].unique()):\n",
    "    a = df_cost[df_cost[\"province\"] == i].groupby(\"province\").sum()[\"unit_cost_USD\"].sort_values(ascending=False)\n",
    "    print(f\"{i}\\n{a}\")"
   ]
  },
  {
   "cell_type": "code",
   "execution_count": 44,
   "id": "e104fe8a",
   "metadata": {},
   "outputs": [
    {
     "data": {
      "text/plain": [
       "{'province_name': ['Kilimani', 'Akatsi', 'Sokoto', 'Amanzi', 'Hawassa'],\n",
       " 'Sum of number_of_people_served': [6584764,\n",
       "  5993306,\n",
       "  5774434,\n",
       "  5431826,\n",
       "  3843810]}"
      ]
     },
     "execution_count": 44,
     "metadata": {},
     "output_type": "execute_result"
    }
   ],
   "source": [
    "delete = pd.read_csv(\"delete.csv\")\n",
    "# delete.head(10)\n",
    "delete = delete.to_dict(\"list\")\n",
    "delete"
   ]
  },
  {
   "cell_type": "code",
   "execution_count": 52,
   "id": "6e1eb920",
   "metadata": {},
   "outputs": [
    {
     "name": "stdout",
     "output_type": "stream",
     "text": [
      "<class 'pandas.core.frame.DataFrame'>\n",
      "RangeIndex: 25398 entries, 0 to 25397\n",
      "Data columns (total 11 columns):\n",
      " #   Column              Non-Null Count  Dtype  \n",
      "---  ------              --------------  -----  \n",
      " 0   project_id          25398 non-null  int64  \n",
      " 1   source_id           25398 non-null  object \n",
      " 2   address             25398 non-null  object \n",
      " 3   town                25398 non-null  object \n",
      " 4   province            25398 non-null  object \n",
      " 5   source_type         25398 non-null  object \n",
      " 6   improvement         25398 non-null  object \n",
      " 7   source_status       25398 non-null  object \n",
      " 8   date_of_completion  0 non-null      float64\n",
      " 9   comments            0 non-null      float64\n",
      " 10  unit_cost_USD       25398 non-null  int64  \n",
      "dtypes: float64(2), int64(2), object(7)\n",
      "memory usage: 2.1+ MB\n"
     ]
    }
   ],
   "source": [
    "df_cost.info()"
   ]
  },
  {
   "cell_type": "code",
   "execution_count": 63,
   "id": "3ee3f054",
   "metadata": {},
   "outputs": [
    {
     "data": {
      "text/html": [
       "<div>\n",
       "<style scoped>\n",
       "    .dataframe tbody tr th:only-of-type {\n",
       "        vertical-align: middle;\n",
       "    }\n",
       "\n",
       "    .dataframe tbody tr th {\n",
       "        vertical-align: top;\n",
       "    }\n",
       "\n",
       "    .dataframe thead th {\n",
       "        text-align: right;\n",
       "    }\n",
       "</style>\n",
       "<table border=\"1\" class=\"dataframe\">\n",
       "  <thead>\n",
       "    <tr style=\"text-align: right;\">\n",
       "      <th></th>\n",
       "      <th>project_id</th>\n",
       "      <th>source_id</th>\n",
       "      <th>address</th>\n",
       "      <th>town</th>\n",
       "      <th>province</th>\n",
       "      <th>source_type</th>\n",
       "      <th>improvement</th>\n",
       "      <th>source_status</th>\n",
       "      <th>date_of_completion</th>\n",
       "      <th>comments</th>\n",
       "      <th>unit_cost_USD</th>\n",
       "      <th>location_id</th>\n",
       "    </tr>\n",
       "  </thead>\n",
       "  <tbody>\n",
       "    <tr>\n",
       "      <th>0</th>\n",
       "      <td>1</td>\n",
       "      <td>SoIl32582224</td>\n",
       "      <td>36 Pwani Mchangani Road</td>\n",
       "      <td>Ilanga</td>\n",
       "      <td>Sokoto</td>\n",
       "      <td>river</td>\n",
       "      <td>Drill well</td>\n",
       "      <td>Backlog</td>\n",
       "      <td>NaN</td>\n",
       "      <td>NaN</td>\n",
       "      <td>8500</td>\n",
       "      <td>SoIl32582</td>\n",
       "    </tr>\n",
       "    <tr>\n",
       "      <th>1</th>\n",
       "      <td>2</td>\n",
       "      <td>KiRu28935224</td>\n",
       "      <td>129 Ziwa La Kioo Road</td>\n",
       "      <td>Rural</td>\n",
       "      <td>Kilimani</td>\n",
       "      <td>well</td>\n",
       "      <td>Install UV and RO filter</td>\n",
       "      <td>Backlog</td>\n",
       "      <td>NaN</td>\n",
       "      <td>NaN</td>\n",
       "      <td>3200</td>\n",
       "      <td>KiRu28935</td>\n",
       "    </tr>\n",
       "    <tr>\n",
       "      <th>2</th>\n",
       "      <td>3</td>\n",
       "      <td>HaRu19752224</td>\n",
       "      <td>18 Mlima Tazama Avenue</td>\n",
       "      <td>Rural</td>\n",
       "      <td>Hawassa</td>\n",
       "      <td>shared_tap</td>\n",
       "      <td>Install 2 taps nearby</td>\n",
       "      <td>Backlog</td>\n",
       "      <td>NaN</td>\n",
       "      <td>NaN</td>\n",
       "      <td>4000</td>\n",
       "      <td>HaRu19752</td>\n",
       "    </tr>\n",
       "    <tr>\n",
       "      <th>3</th>\n",
       "      <td>3</td>\n",
       "      <td>HaRu19752224</td>\n",
       "      <td>18 Mlima Tazama Avenue</td>\n",
       "      <td>Rural</td>\n",
       "      <td>Hawassa</td>\n",
       "      <td>shared_tap</td>\n",
       "      <td>Install 2 taps nearby</td>\n",
       "      <td>Backlog</td>\n",
       "      <td>NaN</td>\n",
       "      <td>NaN</td>\n",
       "      <td>4000</td>\n",
       "      <td>HaRu19752</td>\n",
       "    </tr>\n",
       "    <tr>\n",
       "      <th>4</th>\n",
       "      <td>3</td>\n",
       "      <td>HaRu19752224</td>\n",
       "      <td>18 Mlima Tazama Avenue</td>\n",
       "      <td>Rural</td>\n",
       "      <td>Hawassa</td>\n",
       "      <td>shared_tap</td>\n",
       "      <td>Install 2 taps nearby</td>\n",
       "      <td>Backlog</td>\n",
       "      <td>NaN</td>\n",
       "      <td>NaN</td>\n",
       "      <td>4000</td>\n",
       "      <td>HaRu19752</td>\n",
       "    </tr>\n",
       "  </tbody>\n",
       "</table>\n",
       "</div>"
      ],
      "text/plain": [
       "   project_id     source_id                  address    town  province  \\\n",
       "0           1  SoIl32582224  36 Pwani Mchangani Road  Ilanga    Sokoto   \n",
       "1           2  KiRu28935224    129 Ziwa La Kioo Road   Rural  Kilimani   \n",
       "2           3  HaRu19752224   18 Mlima Tazama Avenue   Rural   Hawassa   \n",
       "3           3  HaRu19752224   18 Mlima Tazama Avenue   Rural   Hawassa   \n",
       "4           3  HaRu19752224   18 Mlima Tazama Avenue   Rural   Hawassa   \n",
       "\n",
       "  source_type               improvement source_status  date_of_completion  \\\n",
       "0       river                Drill well       Backlog                 NaN   \n",
       "1        well  Install UV and RO filter       Backlog                 NaN   \n",
       "2  shared_tap     Install 2 taps nearby       Backlog                 NaN   \n",
       "3  shared_tap     Install 2 taps nearby       Backlog                 NaN   \n",
       "4  shared_tap     Install 2 taps nearby       Backlog                 NaN   \n",
       "\n",
       "   comments  unit_cost_USD location_id  \n",
       "0       NaN           8500   SoIl32582  \n",
       "1       NaN           3200   KiRu28935  \n",
       "2       NaN           4000   HaRu19752  \n",
       "3       NaN           4000   HaRu19752  \n",
       "4       NaN           4000   HaRu19752  "
      ]
     },
     "execution_count": 63,
     "metadata": {},
     "output_type": "execute_result"
    }
   ],
   "source": [
    "df_new = df_cost.merge(df_visits[[\"location_id\", \"source_id\"]], how=\"left\")\n",
    "df_new.head()"
   ]
  },
  {
   "cell_type": "code",
   "execution_count": 64,
   "id": "27a65bcc",
   "metadata": {},
   "outputs": [
    {
     "data": {
      "text/plain": [
       "(45894, 12)"
      ]
     },
     "execution_count": 64,
     "metadata": {},
     "output_type": "execute_result"
    }
   ],
   "source": [
    "df_new.shape"
   ]
  },
  {
   "cell_type": "code",
   "execution_count": 65,
   "id": "b395ba71",
   "metadata": {},
   "outputs": [
    {
     "data": {
      "text/plain": [
       "(25398, 11)"
      ]
     },
     "execution_count": 65,
     "metadata": {},
     "output_type": "execute_result"
    }
   ],
   "source": [
    "df_cost.shape"
   ]
  },
  {
   "cell_type": "code",
   "execution_count": 66,
   "id": "7670ef69",
   "metadata": {},
   "outputs": [
    {
     "data": {
      "text/plain": [
       "(25398, 12)"
      ]
     },
     "execution_count": 66,
     "metadata": {},
     "output_type": "execute_result"
    }
   ],
   "source": [
    "df_new = df_new.drop_duplicates(keep=\"first\")\n",
    "df_new.shape"
   ]
  },
  {
   "cell_type": "code",
   "execution_count": 67,
   "id": "75ca7038",
   "metadata": {},
   "outputs": [
    {
     "data": {
      "text/plain": [
       "(25398, 13)"
      ]
     },
     "execution_count": 67,
     "metadata": {},
     "output_type": "execute_result"
    }
   ],
   "source": [
    "df_new = df_new.merge(df_location[[\"location_id\", \"location_type\"]], how=\"left\")\n",
    "df_new.shape"
   ]
  },
  {
   "cell_type": "code",
   "execution_count": 68,
   "id": "69ddce57",
   "metadata": {},
   "outputs": [
    {
     "data": {
      "text/plain": [
       "0     8500.0\n",
       "1     4800.0\n",
       "2     6000.0\n",
       "3     3200.0\n",
       "4    12750.0\n",
       "5      525.0\n",
       "6     4200.0\n",
       "7    24000.0\n",
       "8     4800.0\n",
       "9     4200.0\n",
       "Name: real_budget, dtype: float64"
      ]
     },
     "execution_count": 68,
     "metadata": {},
     "output_type": "execute_result"
    }
   ],
   "source": [
    "df_new[\"real_budget\"] = np.where(df_new[\"location_type\"] == \"Rural\", df_new[\"unit_cost_USD\"] * 1.5, df_new[\"unit_cost_USD\"])\n",
    "# df['new_col'] = np.where(condition, df['price'] * 1.5, df['price'] * 1.2)\n",
    "df_new[\"real_budget\"].head(10)"
   ]
  },
  {
   "cell_type": "code",
   "execution_count": 69,
   "id": "5aff5877",
   "metadata": {},
   "outputs": [
    {
     "data": {
      "text/html": [
       "<div>\n",
       "<style scoped>\n",
       "    .dataframe tbody tr th:only-of-type {\n",
       "        vertical-align: middle;\n",
       "    }\n",
       "\n",
       "    .dataframe tbody tr th {\n",
       "        vertical-align: top;\n",
       "    }\n",
       "\n",
       "    .dataframe thead th {\n",
       "        text-align: right;\n",
       "    }\n",
       "</style>\n",
       "<table border=\"1\" class=\"dataframe\">\n",
       "  <thead>\n",
       "    <tr style=\"text-align: right;\">\n",
       "      <th></th>\n",
       "      <th>location_type</th>\n",
       "      <th>unit_cost_USD</th>\n",
       "      <th>real_budget</th>\n",
       "    </tr>\n",
       "  </thead>\n",
       "  <tbody>\n",
       "    <tr>\n",
       "      <th>0</th>\n",
       "      <td>Urban</td>\n",
       "      <td>8500</td>\n",
       "      <td>8500.0</td>\n",
       "    </tr>\n",
       "    <tr>\n",
       "      <th>1</th>\n",
       "      <td>Rural</td>\n",
       "      <td>3200</td>\n",
       "      <td>4800.0</td>\n",
       "    </tr>\n",
       "    <tr>\n",
       "      <th>2</th>\n",
       "      <td>Rural</td>\n",
       "      <td>4000</td>\n",
       "      <td>6000.0</td>\n",
       "    </tr>\n",
       "    <tr>\n",
       "      <th>3</th>\n",
       "      <td>Urban</td>\n",
       "      <td>3200</td>\n",
       "      <td>3200.0</td>\n",
       "    </tr>\n",
       "    <tr>\n",
       "      <th>4</th>\n",
       "      <td>Rural</td>\n",
       "      <td>8500</td>\n",
       "      <td>12750.0</td>\n",
       "    </tr>\n",
       "    <tr>\n",
       "      <th>5</th>\n",
       "      <td>Rural</td>\n",
       "      <td>350</td>\n",
       "      <td>525.0</td>\n",
       "    </tr>\n",
       "    <tr>\n",
       "      <th>6</th>\n",
       "      <td>Urban</td>\n",
       "      <td>4200</td>\n",
       "      <td>4200.0</td>\n",
       "    </tr>\n",
       "    <tr>\n",
       "      <th>7</th>\n",
       "      <td>Rural</td>\n",
       "      <td>16000</td>\n",
       "      <td>24000.0</td>\n",
       "    </tr>\n",
       "    <tr>\n",
       "      <th>8</th>\n",
       "      <td>Rural</td>\n",
       "      <td>3200</td>\n",
       "      <td>4800.0</td>\n",
       "    </tr>\n",
       "    <tr>\n",
       "      <th>9</th>\n",
       "      <td>Urban</td>\n",
       "      <td>4200</td>\n",
       "      <td>4200.0</td>\n",
       "    </tr>\n",
       "  </tbody>\n",
       "</table>\n",
       "</div>"
      ],
      "text/plain": [
       "  location_type  unit_cost_USD  real_budget\n",
       "0         Urban           8500       8500.0\n",
       "1         Rural           3200       4800.0\n",
       "2         Rural           4000       6000.0\n",
       "3         Urban           3200       3200.0\n",
       "4         Rural           8500      12750.0\n",
       "5         Rural            350        525.0\n",
       "6         Urban           4200       4200.0\n",
       "7         Rural          16000      24000.0\n",
       "8         Rural           3200       4800.0\n",
       "9         Urban           4200       4200.0"
      ]
     },
     "execution_count": 69,
     "metadata": {},
     "output_type": "execute_result"
    }
   ],
   "source": [
    "df_new[[\"location_type\", \"unit_cost_USD\", \"real_budget\"]].head(10)"
   ]
  },
  {
   "cell_type": "code",
   "execution_count": 70,
   "id": "2b4696fc",
   "metadata": {},
   "outputs": [
    {
     "data": {
      "text/plain": [
       "12750.0"
      ]
     },
     "execution_count": 70,
     "metadata": {},
     "output_type": "execute_result"
    }
   ],
   "source": [
    "8500 * 1.5"
   ]
  },
  {
   "cell_type": "code",
   "execution_count": 71,
   "id": "40c30833",
   "metadata": {},
   "outputs": [
    {
     "data": {
      "text/plain": [
       "79400700.0"
      ]
     },
     "execution_count": 71,
     "metadata": {},
     "output_type": "execute_result"
    }
   ],
   "source": [
    "df_new[(\n",
    "    df_new[\"province\"] == \"Sokoto\") | (df_new[\"province\"] == \"Kilimani\")]\\\n",
    "    [\"real_budget\"].sum()"
   ]
  },
  {
   "cell_type": "code",
   "execution_count": 76,
   "id": "3ed82074",
   "metadata": {},
   "outputs": [
    {
     "data": {
      "text/plain": [
       "improvement\n",
       "Drill well                       19796500.0\n",
       "Install RO filter                 7066500.0\n",
       "Install UV and RO filter          4692800.0\n",
       "Install 8 taps nearby             3072000.0\n",
       "Install 7 taps nearby             1596000.0\n",
       "Install 6 taps nearby              822000.0\n",
       "Install 4 taps nearby              752000.0\n",
       "Install 5 taps nearby              715000.0\n",
       "Install 1 taps nearby              571000.0\n",
       "Install 3 taps nearby              438000.0\n",
       "Diagnose local infrastructure      381675.0\n",
       "Install 2 taps nearby              248000.0\n",
       "Name: real_budget, dtype: float64"
      ]
     },
     "execution_count": 76,
     "metadata": {},
     "output_type": "execute_result"
    }
   ],
   "source": [
    "df_new[df_new[\"province\"] == \"Sokoto\"].groupby(\"improvement\").sum()[\"real_budget\"].sort_values(ascending=False)"
   ]
  },
  {
   "cell_type": "code",
   "execution_count": 74,
   "id": "cd91cde5",
   "metadata": {},
   "outputs": [
    {
     "data": {
      "text/plain": [
       "True"
      ]
     },
     "execution_count": 74,
     "metadata": {},
     "output_type": "execute_result"
    }
   ],
   "source": [
    "40151475.0 + 39249225.0 > 22553325.0 + 13428275.0 + 31355075.0"
   ]
  },
  {
   "cell_type": "code",
   "execution_count": 77,
   "id": "e8e48e52",
   "metadata": {},
   "outputs": [
    {
     "name": "stdout",
     "output_type": "stream",
     "text": [
      "Sokoto\n",
      "town\n",
      "Rural      32075025.0\n",
      "Ilanga      1768950.0\n",
      "Majengo     1555550.0\n",
      "Kofi        1394350.0\n",
      "Bahari      1204700.0\n",
      "Marang      1183900.0\n",
      "Cheche       969000.0\n",
      "Name: real_budget, dtype: float64\n",
      "Kilimani\n",
      "town\n",
      "Rural      28331025.0\n",
      "Zuri        3357400.0\n",
      "Mrembo      2332650.0\n",
      "Harare      1834050.0\n",
      "Isiqalo     1786250.0\n",
      "Amara       1607850.0\n",
      "Name: real_budget, dtype: float64\n",
      "Hawassa\n",
      "town\n",
      "Rural       17909325.0\n",
      "Amina        1100050.0\n",
      "Djenne        863200.0\n",
      "Deka          827350.0\n",
      "Zanzibar      773700.0\n",
      "Yaounde       750350.0\n",
      "Serowe        329350.0\n",
      "Name: real_budget, dtype: float64\n",
      "Akatsi\n",
      "town\n",
      "Rural       27504825.0\n",
      "Lusaka       1540250.0\n",
      "Kintampo     1188800.0\n",
      "Harare       1121200.0\n",
      "Name: real_budget, dtype: float64\n",
      "Amanzi\n",
      "town\n",
      "Rural      6610425.0\n",
      "Asmara     1722900.0\n",
      "Amina      1286100.0\n",
      "Dahabu     1251750.0\n",
      "Bello       960300.0\n",
      "Pwani       905500.0\n",
      "Abidjan     691300.0\n",
      "Name: real_budget, dtype: float64\n"
     ]
    }
   ],
   "source": [
    "for i in list(df_new[\"province\"].unique()):\n",
    "    a = df_new[df_new[\"province\"] == i].groupby(\"town\").sum()[\"real_budget\"].sort_values(ascending=False)\n",
    "    print(f\"{i}\\n{a}\")"
   ]
  },
  {
   "cell_type": "code",
   "execution_count": 78,
   "id": "39a86c10",
   "metadata": {},
   "outputs": [
    {
     "name": "stdout",
     "output_type": "stream",
     "text": [
      "Isiqalo\n",
      "improvement\n",
      "Install UV and RO filter         611200.0\n",
      "Install RO filter                579600.0\n",
      "Drill well                       340000.0\n",
      "Install 8 taps nearby            128000.0\n",
      "Diagnose local infrastructure     37450.0\n",
      "Install 7 taps nearby             28000.0\n",
      "Install 3 taps nearby             24000.0\n",
      "Install 6 taps nearby             12000.0\n",
      "Install 1 taps nearby             10000.0\n",
      "Install 2 taps nearby              8000.0\n",
      "Install 4 taps nearby              8000.0\n",
      "Name: real_budget, dtype: float64\n",
      "Djenne\n",
      "improvement\n",
      "Install RO filter                365400.0\n",
      "Install UV and RO filter         332800.0\n",
      "Drill well                        59500.0\n",
      "Install 8 taps nearby             48000.0\n",
      "Diagnose local infrastructure     17500.0\n",
      "Install 7 taps nearby             14000.0\n",
      "Install 6 taps nearby             12000.0\n",
      "Install 5 taps nearby             10000.0\n",
      "Install 1 taps nearby              4000.0\n",
      "Name: real_budget, dtype: float64\n",
      "Bello\n",
      "improvement\n",
      "Install 8 taps nearby            224000.0\n",
      "Install 7 taps nearby            182000.0\n",
      "Drill well                       127500.0\n",
      "Install 6 taps nearby             84000.0\n",
      "Install 5 taps nearby             80000.0\n",
      "Install 4 taps nearby             64000.0\n",
      "Install RO filter                 58800.0\n",
      "Diagnose local infrastructure     47600.0\n",
      "Install UV and RO filter          38400.0\n",
      "Install 1 taps nearby             26000.0\n",
      "Install 2 taps nearby             16000.0\n",
      "Install 3 taps nearby             12000.0\n",
      "Name: real_budget, dtype: float64\n",
      "Amina\n",
      "improvement\n",
      "Install RO filter                701400.0\n",
      "Install UV and RO filter         630400.0\n",
      "Drill well                       527000.0\n",
      "Install 8 taps nearby            192000.0\n",
      "Diagnose local infrastructure    161350.0\n",
      "Install 7 taps nearby             42000.0\n",
      "Install 6 taps nearby             36000.0\n",
      "Install 1 taps nearby             30000.0\n",
      "Install 4 taps nearby             24000.0\n",
      "Install 2 taps nearby             20000.0\n",
      "Install 3 taps nearby             12000.0\n",
      "Install 5 taps nearby             10000.0\n",
      "Name: real_budget, dtype: float64\n"
     ]
    }
   ],
   "source": [
    "for i in [\"Isiqalo\", \"Djenne\", \"Bello\", \"Amina\"]:\n",
    "    a = df_new[df_new[\"town\"] == i].groupby(\"improvement\").sum()[\"real_budget\"].sort_values(ascending=False)\n",
    "    print(f\"{i}\\n{a}\")"
   ]
  },
  {
   "cell_type": "code",
   "execution_count": 79,
   "id": "064e8472",
   "metadata": {},
   "outputs": [
    {
     "data": {
      "text/plain": [
       "province\n",
       "Akatsi      31355075.0\n",
       "Amanzi      13428275.0\n",
       "Hawassa     22553325.0\n",
       "Kilimani    39249225.0\n",
       "Sokoto      40151475.0\n",
       "Name: real_budget, dtype: float64"
      ]
     },
     "execution_count": 79,
     "metadata": {},
     "output_type": "execute_result"
    }
   ],
   "source": [
    "df_new.groupby(\"province\").sum()[\"real_budget\"]"
   ]
  },
  {
   "cell_type": "code",
   "execution_count": 80,
   "id": "e059bb4c",
   "metadata": {},
   "outputs": [
    {
     "data": {
      "text/plain": [
       "{'province_name': ['Kilimani', 'Akatsi', 'Sokoto', 'Amanzi', 'Hawassa'],\n",
       " 'Sum of number_of_people_served': [6584764,\n",
       "  5993306,\n",
       "  5774434,\n",
       "  5431826,\n",
       "  3843810]}"
      ]
     },
     "execution_count": 80,
     "metadata": {},
     "output_type": "execute_result"
    }
   ],
   "source": [
    "delete"
   ]
  },
  {
   "cell_type": "code",
   "execution_count": 81,
   "id": "19fca5ff",
   "metadata": {},
   "outputs": [
    {
     "name": "stdout",
     "output_type": "stream",
     "text": [
      "{'Ak': 5.231682647273475, 'Am': 2.4721474877877165, 'H': 5.867440118007914, 'S': 6.95331784898745}\n"
     ]
    }
   ],
   "source": [
    "di = {\"Ak\": (31355075.0/5993306), \"Am\": (13428275.0/5431826), \"H\": (22553325.0/3843810), \"S\": (40151475.0/5774434)}\n",
    "print(di)"
   ]
  },
  {
   "cell_type": "code",
   "execution_count": 82,
   "id": "b1c07de5",
   "metadata": {},
   "outputs": [
    {
     "name": "stdout",
     "output_type": "stream",
     "text": [
      "{'Ak': 8.353854913163278, 'Am': 4.201498528817284, 'H': 8.381076127599515, 'S': 10.034878356249838}\n"
     ]
    }
   ],
   "source": [
    "di_ = {\"Ak\": (31355075.0/3753366), \"Am\": (13428275.0/3196068), \"H\": (22553325.0/2690982), \"S\": (40151475.0/4001192)}\n",
    "print(di_)"
   ]
  },
  {
   "cell_type": "code",
   "execution_count": null,
   "id": "bddde8a9",
   "metadata": {},
   "outputs": [],
   "source": []
  }
 ],
 "metadata": {
  "kernelspec": {
   "display_name": "Python 3 (ipykernel)",
   "language": "python",
   "name": "python3"
  },
  "language_info": {
   "codemirror_mode": {
    "name": "ipython",
    "version": 3
   },
   "file_extension": ".py",
   "mimetype": "text/x-python",
   "name": "python",
   "nbconvert_exporter": "python",
   "pygments_lexer": "ipython3",
   "version": "3.11.3"
  }
 },
 "nbformat": 4,
 "nbformat_minor": 5
}
